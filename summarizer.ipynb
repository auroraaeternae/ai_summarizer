{
  "nbformat": 4,
  "nbformat_minor": 0,
  "metadata": {
    "colab": {
      "provenance": [],
      "authorship_tag": "ABX9TyPQI2JaElaxUkqSiQxyXThQ",
      "include_colab_link": true
    },
    "kernelspec": {
      "name": "python3",
      "display_name": "Python 3"
    },
    "language_info": {
      "name": "python"
    }
  },
  "cells": [
    {
      "cell_type": "markdown",
      "metadata": {
        "id": "view-in-github",
        "colab_type": "text"
      },
      "source": [
        "<a href=\"https://colab.research.google.com/github/auroraaeternae/ai_summarizer/blob/main/summarizer.ipynb\" target=\"_parent\"><img src=\"https://colab.research.google.com/assets/colab-badge.svg\" alt=\"Open In Colab\"/></a>"
      ]
    },
    {
      "cell_type": "code",
      "execution_count": 2,
      "metadata": {
        "id": "WVeI7ApP-p8P"
      },
      "outputs": [],
      "source": [
        "# template to practice Google's Gemini\n",
        "# function : take in text input in various formats and return summary"
      ]
    },
    {
      "cell_type": "code",
      "source": [
        "!pip install -q -U google-generativeai"
      ],
      "metadata": {
        "id": "OuSKyrgg_zhz",
        "outputId": "d367a45d-4d8a-411c-a401-e119f30089ce",
        "colab": {
          "base_uri": "https://localhost:8080/"
        }
      },
      "execution_count": 3,
      "outputs": [
        {
          "output_type": "stream",
          "name": "stdout",
          "text": [
            "\u001b[?25l     \u001b[90m━━━━━━━━━━━━━━━━━━━━━━━━━━━━━━━━━━━━━━━━\u001b[0m \u001b[32m0.0/146.9 kB\u001b[0m \u001b[31m?\u001b[0m eta \u001b[36m-:--:--\u001b[0m\r\u001b[2K     \u001b[91m━━━━━━━━━━━━━━━━━━━━━━━━━\u001b[0m\u001b[90m╺\u001b[0m\u001b[90m━━━━━━━━━━━━━━\u001b[0m \u001b[32m92.2/146.9 kB\u001b[0m \u001b[31m2.7 MB/s\u001b[0m eta \u001b[36m0:00:01\u001b[0m\r\u001b[2K     \u001b[90m━━━━━━━━━━━━━━━━━━━━━━━━━━━━━━━━━━━━━━━━\u001b[0m \u001b[32m146.9/146.9 kB\u001b[0m \u001b[31m3.0 MB/s\u001b[0m eta \u001b[36m0:00:00\u001b[0m\n",
            "\u001b[?25h"
          ]
        }
      ]
    },
    {
      "cell_type": "code",
      "source": [
        "import pathlib\n",
        "import textwrap\n",
        "import google.generativeai as genai\n",
        "from google.colab import userdata\n",
        "from IPython.display import display\n",
        "from IPython.display import Markdown\n",
        "\n",
        "def to_markdown(text):\n",
        "  text = text.replace('•', '  *')\n",
        "  return Markdown(textwrap.indent(text, '> ', predicate=lambda _: True))"
      ],
      "metadata": {
        "id": "0XTD3fgtAJc2"
      },
      "execution_count": 4,
      "outputs": []
    },
    {
      "cell_type": "code",
      "source": [
        "GOOGLE_API_KEY = userdata.get(\"GOOGLE_API_KEY\")\n",
        "genai.configure(api_key=GOOGLE_API_KEY)"
      ],
      "metadata": {
        "id": "5F1o9lnBAc9V"
      },
      "execution_count": 5,
      "outputs": []
    },
    {
      "cell_type": "code",
      "source": [
        "for m in genai.list_models():\n",
        "  if 'generateContent' in m.supported_generation_methods:\n",
        "    print(m.name)"
      ],
      "metadata": {
        "id": "QwwS-awnA6FB",
        "outputId": "b1e085b7-b2b9-461e-cc1c-1b805d9a1c82",
        "colab": {
          "base_uri": "https://localhost:8080/",
          "height": 54
        }
      },
      "execution_count": 6,
      "outputs": [
        {
          "output_type": "stream",
          "name": "stdout",
          "text": [
            "models/gemini-pro\n",
            "models/gemini-pro-vision\n"
          ]
        }
      ]
    },
    {
      "cell_type": "code",
      "source": [
        "model = genai.GenerativeModel('gemini-pro')"
      ],
      "metadata": {
        "id": "yuqI33rOBDrs"
      },
      "execution_count": 7,
      "outputs": []
    },
    {
      "cell_type": "code",
      "source": [
        "# define the prompt and input into the model\n",
        "prompt = \"암시장의 나쁜 점이 뭐야\"\n",
        "response = model.generate_content(prompt)\n",
        "to_markdown(response.text)\n"
      ],
      "metadata": {
        "id": "HH8SnKR7BKsY",
        "outputId": "8209285a-5a1a-4158-bbe0-a9cbcfccfa12",
        "colab": {
          "base_uri": "https://localhost:8080/",
          "height": 271
        }
      },
      "execution_count": 9,
      "outputs": [
        {
          "output_type": "execute_result",
          "data": {
            "text/plain": [
              "<IPython.core.display.Markdown object>"
            ],
            "text/markdown": "> * **거래할 수 없는 상품이 제공됩니다.** 암시장상인들은 종종 약물, 기관총, 위조 서류와 같은 거래가 불법인 상품을 판매합니다. 이러한 제품은 종종 위험하거나 질이 떨어질 수 있으며 구매자의 건강과 안전을 위험에 빠뜨릴 수 있습니다.\n> * **착취와 학대.** 암시장은 종종 사람들을 착취하고 학대하는 것을 목표로 하는 범죄자들의 피난처입니다. 피해자는 가난, 중독 또는 매춘으로 유인될 수 있습니다. 그런 다음 그들은 학대를 받고 착취당합니다.\n> * **불법이므로 판매 및 구매 시 문제 발생,** 암시장에서 구매한 상품은 불법이며 경찰에 의해 압수될 수 있습니다. 암시장에서 구매한 상품은 종종 환불 또는 교환이 불가능합니다.\n> * **불법적이며 위험합니다.** 암시장에서 판매되는 대부분의 상품은 불법이므로 판매하거나 구매하는 사람은 체포 및 기소될 수 있습니다. 암시장 거래는 종종 폭력과 범죄로 특징지어지므로 위험할 수도 있습니다.\n> * **경제에 악영향을 미칩니다.** 암시장은 세수와 규정을 피함으로써 경제에 악영향을 미칠 수 있습니다. 이는 정부의 수익을 잃게 하고 합법적인 사업에 부정적인 영향을 미칠 수 있습니다.\n> * **사회 구성원들을 불신하게 만듭니다.** 암시장은 사람들이 법을 따를 것 같이 만들어 사회적 불신 분위기를 조성할 수 있습니다. 이것은 사회의 결속력을 약화시키고 집행력에 대한 존중을 침식할 수 있습니다."
          },
          "metadata": {},
          "execution_count": 9
        }
      ]
    }
  ]
}