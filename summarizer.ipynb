{
  "nbformat": 4,
  "nbformat_minor": 0,
  "metadata": {
    "colab": {
      "provenance": [],
      "authorship_tag": "ABX9TyO1RQ+4MdCwaSvSM1HBl0XM",
      "include_colab_link": true
    },
    "kernelspec": {
      "name": "python3",
      "display_name": "Python 3"
    },
    "language_info": {
      "name": "python"
    }
  },
  "cells": [
    {
      "cell_type": "markdown",
      "metadata": {
        "id": "view-in-github",
        "colab_type": "text"
      },
      "source": [
        "<a href=\"https://colab.research.google.com/github/auroraaeternae/ai_summarizer/blob/main/summarizer.ipynb\" target=\"_parent\"><img src=\"https://colab.research.google.com/assets/colab-badge.svg\" alt=\"Open In Colab\"/></a>"
      ]
    },
    {
      "cell_type": "code",
      "execution_count": 2,
      "metadata": {
        "id": "WVeI7ApP-p8P"
      },
      "outputs": [],
      "source": [
        "# template to practice Google's Gemini\n",
        "# function : take in text input in various formats and return summary"
      ]
    },
    {
      "cell_type": "code",
      "source": [
        "!pip install -q -U google-generativeai"
      ],
      "metadata": {
        "id": "OuSKyrgg_zhz",
        "outputId": "d367a45d-4d8a-411c-a401-e119f30089ce",
        "colab": {
          "base_uri": "https://localhost:8080/"
        }
      },
      "execution_count": 3,
      "outputs": [
        {
          "output_type": "stream",
          "name": "stdout",
          "text": [
            "\u001b[?25l     \u001b[90m━━━━━━━━━━━━━━━━━━━━━━━━━━━━━━━━━━━━━━━━\u001b[0m \u001b[32m0.0/146.9 kB\u001b[0m \u001b[31m?\u001b[0m eta \u001b[36m-:--:--\u001b[0m\r\u001b[2K     \u001b[91m━━━━━━━━━━━━━━━━━━━━━━━━━\u001b[0m\u001b[90m╺\u001b[0m\u001b[90m━━━━━━━━━━━━━━\u001b[0m \u001b[32m92.2/146.9 kB\u001b[0m \u001b[31m2.7 MB/s\u001b[0m eta \u001b[36m0:00:01\u001b[0m\r\u001b[2K     \u001b[90m━━━━━━━━━━━━━━━━━━━━━━━━━━━━━━━━━━━━━━━━\u001b[0m \u001b[32m146.9/146.9 kB\u001b[0m \u001b[31m3.0 MB/s\u001b[0m eta \u001b[36m0:00:00\u001b[0m\n",
            "\u001b[?25h"
          ]
        }
      ]
    },
    {
      "cell_type": "code",
      "source": [
        "import pathlib\n",
        "import textwrap\n",
        "import google.generativeai as genai\n",
        "from google.colab import userdata\n",
        "from IPython.display import display\n",
        "from IPython.display import Markdown\n",
        "\n",
        "def to_markdown(text):\n",
        "  text = text.replace('•', '  *')\n",
        "  return Markdown(textwrap.indent(text, '> ', predicate=lambda _: True))"
      ],
      "metadata": {
        "id": "0XTD3fgtAJc2"
      },
      "execution_count": 4,
      "outputs": []
    },
    {
      "cell_type": "code",
      "source": [
        "GOOGLE_API_KEY = userdata.get(\"GOOGLE_API_KEY\")\n",
        "genai.configure(api_key=GOOGLE_API_KEY)"
      ],
      "metadata": {
        "id": "5F1o9lnBAc9V"
      },
      "execution_count": 5,
      "outputs": []
    },
    {
      "cell_type": "code",
      "source": [
        "for m in genai.list_models():\n",
        "  if 'generateContent' in m.supported_generation_methods:\n",
        "    print(m.name)"
      ],
      "metadata": {
        "id": "QwwS-awnA6FB",
        "outputId": "b1e085b7-b2b9-461e-cc1c-1b805d9a1c82",
        "colab": {
          "base_uri": "https://localhost:8080/",
          "height": 54
        }
      },
      "execution_count": 6,
      "outputs": [
        {
          "output_type": "stream",
          "name": "stdout",
          "text": [
            "models/gemini-pro\n",
            "models/gemini-pro-vision\n"
          ]
        }
      ]
    },
    {
      "cell_type": "code",
      "source": [
        "model = genai.GenerativeModel('gemini-pro')"
      ],
      "metadata": {
        "id": "yuqI33rOBDrs"
      },
      "execution_count": 7,
      "outputs": []
    },
    {
      "cell_type": "code",
      "source": [
        "# define a single prompt and input into the model\n",
        "prompt = \"write a flutter code to create a chat screen\"\n",
        "response = model.generate_content(prompt)\n",
        "to_markdown(response.text)\n"
      ],
      "metadata": {
        "id": "HH8SnKR7BKsY"
      },
      "execution_count": null,
      "outputs": []
    },
    {
      "cell_type": "code",
      "source": [
        "# set multiple prompts in a chat form to have conversations with the model\n",
        "chat = model.start_chat(history=[])"
      ],
      "metadata": {
        "id": "B9uXqKhXDyJr"
      },
      "execution_count": 15,
      "outputs": []
    },
    {
      "cell_type": "code",
      "source": [
        "story = \"\"\"\n",
        "프로야구 한국시리즈 예매 전쟁, 자유 시장 시스템으로 해결하자?!\n",
        "\n",
        " KBO(한국야구위원회)에서 일하는 김이화 팀장은 지난달 발생한 ‘한국시리즈 티켓 대란’으로 몸살을 앓았다. LG트윈스가 근 30년 만에 한국시리즈에 진출하면서 직관을 원하는 팬들의 열기는 가히 폭발적이었고, 아니나 다를까 경기 당 3만 관중의 경기에 10만명이 접속하여 대기하는 사태가 발생했다. 추후 조사를 통해 알아보니, 티켓을 구하지 못한 사람들은 중고거래 사이트를 통해 정가의 3배에서 5배까지 높은 가격을 불러야 입장권을 구할 수 있던 것으로 나타났다.\n",
        "[참고기사1: https://www.joongang.co.kr/article/25205408#home]\n",
        "\n",
        " 사실 이번에 크게 부각이 되었다 뿐이지, 소위 ‘광클전쟁’과 ‘암표거래’는 10년 넘게 꾸준히 문제가 되어왔다. 비단 한국시리즈 뿐 아니라, 인기있는 스포츠 및 문화 공연의 예매에는 처음부터 되팔기를 통한 이득을 취하고자 하는 ‘암표상’들이 문제였던 것이다. 이들은 매크로 티케팅을 통해 좌석을 선점하고, 온라인 중고거래를 통해 높은 가격에 되파는 행태를 반복했다. 상황이 이러다 보니, 그녀는 작금의 상황에 항의하는 무수한 야구 팬들의 전화를 일일이 응대하는 악몽 같은 몇 주를 보내야 했다…\n",
        "[참고기사2: https://star.ohmynews.com/NWS_Web/OhmyStar/at_pg.aspx?CNTN_CD=A0001913239]\n",
        "[참고기사3: https://m.post.naver.com/viewer/postView.naver?volumeNo=35772960&memberNo=38212397]\n",
        "\n",
        " 학창시절 경제/경영 수업을 착실히 들으며 자유시장경제 시스템에 대해 배웠던 그녀는, 문득 ‘임의로 가격을 고정시켜 판매하는 현재 시스템이 문제를 야기하는 것 아닐까?’라는 생각을 떠올렸다. 수요-공급 곡선에 의해 가격이 오르면 수요는 그만큼 떨어질 것 이고, 티케팅을 경매나 주식매매처럼 진행시키면 KBO도 더 높은 수익을 얻을 수 있을 것이라는 생각에 다음과 같이 티케팅 시스템의 기획안을 제출하였다.\n",
        "\n",
        "1)   최초 예매는 기존의 예매시스템과 같이 온라인을 통한 선착순 구매를 실시한다. 이때, 구매 희망자들은 티켓 가격에 준하는 금액을 예치한다.\n",
        "2)   최초 예매가 완료되면 그 즉시 해당 경기의 예매시스템은 (기존처럼 구매하지 못한 이들이 온라인 대기열에서 기다리는 것이 아니라) 티켓 매매 시스템으로 전환되며, 구매를 희망하는 자들이 희망 가격을 설정하며 구매 주문을 걸어놓고, 이미 구매한 사람들은 실시간으로 희망 가격의 증감 상황을 받으며 희망하는 리셀(re-sell) 가격을 설정한다.\n",
        "[여기에서 리셀을 희망하지 않는 이는 구매를 확정하며, 취소/환불만 가능해짐]\n",
        "3)   티켓 매매 시스템은 경기/공연이 시작되기 전까지 지속되지만, 티켓 매매 시스템이 열린 후 경과 시간에 따라 구매자의 리셀 차익 수수료 비중이 증가한다. 예컨대 티켓 매매 시스템 개시 후 2시간 내에는 10%, 24시간 내에는 차익의 30%를 납부해야 한다면, 48시간 이후에는 차익의 60~80%를 수수료로 (KBO에) 납부해야 한다.\n",
        "4)   입장권의 매매는 지정된 웹사이트를 통해서만 가능하며, 그 외의 수단을 통한 매매 시도는 금지된다. 한편, 리셀을 희망하지 않던 이들의 입장권이 취소되면, 이 물량은 티켓 매매 시스템에 이미 구매한 사람들에 의해 설정되어 있는 리셀 가격 중 가장 낮은 가격으로 등록된다.\n",
        "\n",
        "\"\"\"\n",
        "\n",
        "prefix = \"다음의 상황을 가정할 때, \"\n",
        "q1 = \"김이화 팀장이 제시한 예매 시스템과 기존 티케팅 시스템은 둘 다 시장에서 거래가 이루어진다는 큰 측면에서 같지만, 가격 결정의 측면에서 큰 차이를 보이고 있다. 이 두 체제의 차이점을 가격, 수요-공급, 그리고 거래의 측면에서 비교 분석하시오.\"\n",
        "\n",
        "response = chat.send_message(prefix+q1+\"다음:\"+story)\n",
        "to_markdown(response.text)"
      ],
      "metadata": {
        "colab": {
          "base_uri": "https://localhost:8080/",
          "height": 301
        },
        "id": "v7a4d3fVEOTL",
        "outputId": "f804c005-bbf9-4b5d-99be-62e74e805780"
      },
      "execution_count": 16,
      "outputs": [
        {
          "output_type": "execute_result",
          "data": {
            "text/plain": [
              "<IPython.core.display.Markdown object>"
            ],
            "text/markdown": "> **가격**\n> \n> * 기존 티케팅 시스템: 티켓 가격은 KBO가 임의로 정하고, 티켓의 가격은 경기 또는 공연에 관계없이 일정하다.\n> * 김이화 팀장이 제시한 예매 시스템: 티켓 가격은 구매자와 판매자 사이의 경쟁을 통해 결정되며, 티켓의 가격은 경기 또는 공연의 인기에 따라 변동한다.\n> \n> **수요-공급**\n> \n> * 기존 티케팅 시스템: 수요가 공급을 초과하면 티켓은 매진되고, 수요가 공급보다 적으면 티켓은 남는다.\n> * 김이화 팀장이 제시한 예매 시스템: 수요가 공급을 초과하면 티켓 가격이 상승하고, 수요가 공급보다 적으면 티켓 가격이 하락한다.\n> \n> **거래**\n> \n> * 기존 티케팅 시스템: 티켓 거래는 KBO가 운영하는 공식 웹사이트를 통해 이루어진다.\n> * 김이화 팀장이 제시한 예매 시스템: 티켓 거래는 KBO가 지정한 웹사이트를 통해 이루어진다."
          },
          "metadata": {},
          "execution_count": 16
        }
      ]
    },
    {
      "cell_type": "code",
      "source": [
        "# subsequent chat\n",
        "q2 = \"\"\"\n",
        "스스로 생각하기에도 너무나 혁신적인 아이디어를 냈다고 생각한 김이화 팀장. 그러나 세상은 녹녹치 않았다. 보고를 받은 이감성 차장은 “김이화 팀장! 당신 T야?!”라는 짜증 섞인 말과 함께, 다음의 신문기사 링크[하단참조]를 김이화 팀장에게 카톡으로 공유하며, 문제 인식부터 다시 하라는 지시를 내렸다.\n",
        "[https://star.ohmynews.com/NWS_Web/OhmyStar/at_pg.aspx?CNTN_CD=A0002976836&CMPT_CD=P0010&utm_source=naver&utm_medium=newsearch&utm_campaign=naver_news]\n",
        "김이화 팀장이 제시한 시스템이 활성화되면 발생할 수 있는 문제 및 부작용에는 무엇이 있는가? 특히, 시장의 실패와 자본주의의 한계 측면을 중심으로 기술하시오.\n",
        "\"\"\"\n",
        "response = chat.send_message(q2)\n",
        "to_markdown(response.text)"
      ],
      "metadata": {
        "colab": {
          "base_uri": "https://localhost:8080/",
          "height": 422
        },
        "id": "tY4ggbfmEf_e",
        "outputId": "f8fa80de-fd9b-4518-8594-d2c7420db0de"
      },
      "execution_count": 17,
      "outputs": [
        {
          "output_type": "execute_result",
          "data": {
            "text/plain": [
              "<IPython.core.display.Markdown object>"
            ],
            "text/markdown": "> 김이화 팀장이 제시한 시스템이 활성화되면 발생할 수 있는 문제 및 부작용은 다음과 같습니다.\n> \n> **시장의 실패**\n> \n> * **투기:** 티켓 가격이 상승할 것이라는 예상으로 티켓을 매수하여 가격이 상승하면 이를 다시 판매하여 이익을 취하는 행위가 발생할 수 있습니다. 이로 인해 티켓 가격이 실제 수요보다 인위적으로 높아질 수 있습니다.\n> * **흑시장:** 티켓 매매 시스템이 지정된 웹사이트를 통해서만 가능하도록 제한되어 있지만, 이를 우회하여 티켓을 매매하는 흑시장이 발생할 수 있습니다. 이로 인해 티켓 가격이 더욱 상승하고, 티켓을 구하기 어려워질 수 있습니다.\n> * **불공평:** 티켓 가격이 수요와 공급에 따라 결정되기 때문에, 경제적 여유가 있는 사람들이 티켓을 구하기 쉽고, 경제적 여유가 없는 사람들은 티켓을 구하기 어려워질 수 있습니다.\n> \n> **자본주의의 한계**\n> \n> * **소비자 보호 부족:** 티켓 거래가 시장을 통해 이루어지기 때문에, 소비자는 티켓의 가격과 품질에 대해 스스로 책임을 져야 합니다. 이로 인해 소비자가 불공평한 가격으로 티켓을 구입하거나, 위조 티켓을 구입하는 피해를 볼 수 있습니다.\n> * **사회적 불평등 증가:** 티켓 가격이 수요와 공급에 따라 결정되기 때문에, 경제적 여유가 있는 사람들은 티켓을 구하기 쉽고, 경제적 여유가 없는 사람들은 티켓을 구하기 어려워집니다. 이로 인해 사회적 불평등이 증가할 수 있습니다.\n> \n> 이러한 문제 및 부작용을 해결하기 위해서는 KBO가 티켓 가격을 규제하거나, 티켓 매매 시스템을 보다 투명하고 공정하게 운영하도록 노력해야 합니다. 또한, 소비자들은 티켓을 구입할 때 주의를 기울여야 하고, 티켓의 가격과 품질에 대해 스스로 책임을 져야 합니다."
          },
          "metadata": {},
          "execution_count": 17
        }
      ]
    },
    {
      "cell_type": "code",
      "source": [
        "q3 = \"현재 문제를 해결할 수 있는 대안을 자유롭게 기술하시오.\"\n",
        "response = chat.send_message(q3)\n",
        "to_markdown(response.text)\n"
      ],
      "metadata": {
        "colab": {
          "base_uri": "https://localhost:8080/",
          "height": 387
        },
        "id": "k114EosgGnWc",
        "outputId": "05e939af-65ec-4554-cb05-1df64f1dfe2f"
      },
      "execution_count": 18,
      "outputs": [
        {
          "output_type": "execute_result",
          "data": {
            "text/plain": [
              "<IPython.core.display.Markdown object>"
            ],
            "text/markdown": "> 현재 티켓 대란 문제를 해결할 수 있는 대안은 다음과 같습니다.\n> \n> * **티켓 가격 규제:** KBO가 티켓 가격을 일정 수준 이하로 규제하여 티켓 가격이 인위적으로 상승하는 것을 방지할 수 있습니다. 하지만 이 경우 티켓 수요가 공급보다 많을 때 티켓을 구하기 어려워지는 문제가 발생할 수 있습니다.\n> * **티켓 매매 시스템 개선:** 티켓 매매 시스템을 보다 투명하고 공정하게 운영하여 투기와 흑시장을 방지할 수 있습니다. 예를 들어, 티켓을 한 번 판매하면 다시 매수할 수 없도록 하거나, 티켓 가격을 일정 수준 이상으로 올릴 수 없도록 하는 등의 조치를 취할 수 있습니다.\n> * **티켓 발매 방식 변경:** 티켓을 선착순으로 판매하는 방식에서 추첨 방식으로 변경하면 티켓을 구하기 위해 줄을 서거나 티켓 매매 시스템에 접속하는 데 드는 비용을 줄일 수 있습니다. 또한, 티켓을 여러 차례에 걸쳐 분산하여 판매하면 티켓 수요가 한 번에 몰리는 것을 방지할 수 있습니다.\n> * **티켓 판매 대행 업체 규제:** 티켓 판매 대행 업체가 티켓을 대량으로 매수하여 가격을つり올리는 것을 방지하기 위해 티켓 판매 대행 업체를 규제할 수 있습니다. 예를 들어, 티켓 판매 대행 업체가 한 번에 판매할 수 있는 티켓 수를 제한하거나, 티켓 판매 대행 업체가 티켓을 매수할 때 실명을 등록하도록 하는 등의 조치를 취할 수 있습니다.\n> * **소비자 교육:** 소비자들이 티켓을 구입할 때 주의를 기울여야 하고, 티켓의 가격과 품질에 대해 스스로 책임을 져야 한다는 점을 교육할 수 있습니다. 또한, 소비자들이 티켓을 구입할 때 공식 웹사이트를 이용하도록 권장할 수 있습니다.\n> \n> 이러한 대안을 통해 티켓 대란 문제를 해결하고, 소비자들이 티켓을 공정하고 합리적인 가격으로 구입할 수 있도록 할 수 있습니다."
          },
          "metadata": {},
          "execution_count": 18
        }
      ]
    },
    {
      "cell_type": "code",
      "source": [
        "# function to extract pdf\n",
        "!pip install PyMuPDF\n",
        "import fitz\n",
        "\n",
        "def readpdf(data):\n",
        "  res = \"\"\n",
        "  doc = fitz.open(stream=data, filetype=\"pdf\")\n",
        "  for page in doc:\n",
        "    text = page.get_text()\n",
        "    res += text\n",
        "  return res"
      ],
      "metadata": {
        "colab": {
          "base_uri": "https://localhost:8080/"
        },
        "id": "bdIYHarKHmih",
        "outputId": "c7ed50ec-53e6-468f-fc72-fde8f89d95a2"
      },
      "execution_count": 30,
      "outputs": [
        {
          "output_type": "stream",
          "name": "stdout",
          "text": [
            "Requirement already satisfied: PyMuPDF in /usr/local/lib/python3.10/dist-packages (1.23.8)\n",
            "Requirement already satisfied: PyMuPDFb==1.23.7 in /usr/local/lib/python3.10/dist-packages (from PyMuPDF) (1.23.7)\n"
          ]
        }
      ]
    },
    {
      "cell_type": "code",
      "source": [
        "from google.colab import files\n",
        "pdf = files.upload()"
      ],
      "metadata": {
        "colab": {
          "base_uri": "https://localhost:8080/",
          "height": 77
        },
        "id": "3D0y-SipIXzp",
        "outputId": "67642954-20b9-4a7a-e545-791dbb9dcf84"
      },
      "execution_count": 20,
      "outputs": [
        {
          "output_type": "display_data",
          "data": {
            "text/plain": [
              "<IPython.core.display.HTML object>"
            ],
            "text/html": [
              "\n",
              "     <input type=\"file\" id=\"files-33ff3a92-fc5c-4107-b1a8-c76e9abcb164\" name=\"files[]\" multiple disabled\n",
              "        style=\"border:none\" />\n",
              "     <output id=\"result-33ff3a92-fc5c-4107-b1a8-c76e9abcb164\">\n",
              "      Upload widget is only available when the cell has been executed in the\n",
              "      current browser session. Please rerun this cell to enable.\n",
              "      </output>\n",
              "      <script>// Copyright 2017 Google LLC\n",
              "//\n",
              "// Licensed under the Apache License, Version 2.0 (the \"License\");\n",
              "// you may not use this file except in compliance with the License.\n",
              "// You may obtain a copy of the License at\n",
              "//\n",
              "//      http://www.apache.org/licenses/LICENSE-2.0\n",
              "//\n",
              "// Unless required by applicable law or agreed to in writing, software\n",
              "// distributed under the License is distributed on an \"AS IS\" BASIS,\n",
              "// WITHOUT WARRANTIES OR CONDITIONS OF ANY KIND, either express or implied.\n",
              "// See the License for the specific language governing permissions and\n",
              "// limitations under the License.\n",
              "\n",
              "/**\n",
              " * @fileoverview Helpers for google.colab Python module.\n",
              " */\n",
              "(function(scope) {\n",
              "function span(text, styleAttributes = {}) {\n",
              "  const element = document.createElement('span');\n",
              "  element.textContent = text;\n",
              "  for (const key of Object.keys(styleAttributes)) {\n",
              "    element.style[key] = styleAttributes[key];\n",
              "  }\n",
              "  return element;\n",
              "}\n",
              "\n",
              "// Max number of bytes which will be uploaded at a time.\n",
              "const MAX_PAYLOAD_SIZE = 100 * 1024;\n",
              "\n",
              "function _uploadFiles(inputId, outputId) {\n",
              "  const steps = uploadFilesStep(inputId, outputId);\n",
              "  const outputElement = document.getElementById(outputId);\n",
              "  // Cache steps on the outputElement to make it available for the next call\n",
              "  // to uploadFilesContinue from Python.\n",
              "  outputElement.steps = steps;\n",
              "\n",
              "  return _uploadFilesContinue(outputId);\n",
              "}\n",
              "\n",
              "// This is roughly an async generator (not supported in the browser yet),\n",
              "// where there are multiple asynchronous steps and the Python side is going\n",
              "// to poll for completion of each step.\n",
              "// This uses a Promise to block the python side on completion of each step,\n",
              "// then passes the result of the previous step as the input to the next step.\n",
              "function _uploadFilesContinue(outputId) {\n",
              "  const outputElement = document.getElementById(outputId);\n",
              "  const steps = outputElement.steps;\n",
              "\n",
              "  const next = steps.next(outputElement.lastPromiseValue);\n",
              "  return Promise.resolve(next.value.promise).then((value) => {\n",
              "    // Cache the last promise value to make it available to the next\n",
              "    // step of the generator.\n",
              "    outputElement.lastPromiseValue = value;\n",
              "    return next.value.response;\n",
              "  });\n",
              "}\n",
              "\n",
              "/**\n",
              " * Generator function which is called between each async step of the upload\n",
              " * process.\n",
              " * @param {string} inputId Element ID of the input file picker element.\n",
              " * @param {string} outputId Element ID of the output display.\n",
              " * @return {!Iterable<!Object>} Iterable of next steps.\n",
              " */\n",
              "function* uploadFilesStep(inputId, outputId) {\n",
              "  const inputElement = document.getElementById(inputId);\n",
              "  inputElement.disabled = false;\n",
              "\n",
              "  const outputElement = document.getElementById(outputId);\n",
              "  outputElement.innerHTML = '';\n",
              "\n",
              "  const pickedPromise = new Promise((resolve) => {\n",
              "    inputElement.addEventListener('change', (e) => {\n",
              "      resolve(e.target.files);\n",
              "    });\n",
              "  });\n",
              "\n",
              "  const cancel = document.createElement('button');\n",
              "  inputElement.parentElement.appendChild(cancel);\n",
              "  cancel.textContent = 'Cancel upload';\n",
              "  const cancelPromise = new Promise((resolve) => {\n",
              "    cancel.onclick = () => {\n",
              "      resolve(null);\n",
              "    };\n",
              "  });\n",
              "\n",
              "  // Wait for the user to pick the files.\n",
              "  const files = yield {\n",
              "    promise: Promise.race([pickedPromise, cancelPromise]),\n",
              "    response: {\n",
              "      action: 'starting',\n",
              "    }\n",
              "  };\n",
              "\n",
              "  cancel.remove();\n",
              "\n",
              "  // Disable the input element since further picks are not allowed.\n",
              "  inputElement.disabled = true;\n",
              "\n",
              "  if (!files) {\n",
              "    return {\n",
              "      response: {\n",
              "        action: 'complete',\n",
              "      }\n",
              "    };\n",
              "  }\n",
              "\n",
              "  for (const file of files) {\n",
              "    const li = document.createElement('li');\n",
              "    li.append(span(file.name, {fontWeight: 'bold'}));\n",
              "    li.append(span(\n",
              "        `(${file.type || 'n/a'}) - ${file.size} bytes, ` +\n",
              "        `last modified: ${\n",
              "            file.lastModifiedDate ? file.lastModifiedDate.toLocaleDateString() :\n",
              "                                    'n/a'} - `));\n",
              "    const percent = span('0% done');\n",
              "    li.appendChild(percent);\n",
              "\n",
              "    outputElement.appendChild(li);\n",
              "\n",
              "    const fileDataPromise = new Promise((resolve) => {\n",
              "      const reader = new FileReader();\n",
              "      reader.onload = (e) => {\n",
              "        resolve(e.target.result);\n",
              "      };\n",
              "      reader.readAsArrayBuffer(file);\n",
              "    });\n",
              "    // Wait for the data to be ready.\n",
              "    let fileData = yield {\n",
              "      promise: fileDataPromise,\n",
              "      response: {\n",
              "        action: 'continue',\n",
              "      }\n",
              "    };\n",
              "\n",
              "    // Use a chunked sending to avoid message size limits. See b/62115660.\n",
              "    let position = 0;\n",
              "    do {\n",
              "      const length = Math.min(fileData.byteLength - position, MAX_PAYLOAD_SIZE);\n",
              "      const chunk = new Uint8Array(fileData, position, length);\n",
              "      position += length;\n",
              "\n",
              "      const base64 = btoa(String.fromCharCode.apply(null, chunk));\n",
              "      yield {\n",
              "        response: {\n",
              "          action: 'append',\n",
              "          file: file.name,\n",
              "          data: base64,\n",
              "        },\n",
              "      };\n",
              "\n",
              "      let percentDone = fileData.byteLength === 0 ?\n",
              "          100 :\n",
              "          Math.round((position / fileData.byteLength) * 100);\n",
              "      percent.textContent = `${percentDone}% done`;\n",
              "\n",
              "    } while (position < fileData.byteLength);\n",
              "  }\n",
              "\n",
              "  // All done.\n",
              "  yield {\n",
              "    response: {\n",
              "      action: 'complete',\n",
              "    }\n",
              "  };\n",
              "}\n",
              "\n",
              "scope.google = scope.google || {};\n",
              "scope.google.colab = scope.google.colab || {};\n",
              "scope.google.colab._files = {\n",
              "  _uploadFiles,\n",
              "  _uploadFilesContinue,\n",
              "};\n",
              "})(self);\n",
              "</script> "
            ]
          },
          "metadata": {}
        },
        {
          "output_type": "stream",
          "name": "stdout",
          "text": [
            "Saving ecb-pef.pdf to ecb-pef.pdf\n"
          ]
        }
      ]
    },
    {
      "cell_type": "code",
      "source": [
        "import io\n",
        "data = io.BytesIO(pdf[\"ecb-pef.pdf\"])\n",
        "pef = readpdf(data)"
      ],
      "metadata": {
        "id": "c_B0NDmJIrBG"
      },
      "execution_count": 33,
      "outputs": []
    },
    {
      "cell_type": "code",
      "source": [
        "chat = model.start_chat(history=[])"
      ],
      "metadata": {
        "id": "-C68GmMgLa_9"
      },
      "execution_count": 32,
      "outputs": []
    },
    {
      "cell_type": "code",
      "source": [
        "prompt = \"\"\"\n",
        "summarize the following text:\n",
        "\n",
        "\n",
        "\"\"\"+pef\n",
        "response = chat.send_message(prompt)\n",
        "to_markdown(response.text)"
      ],
      "metadata": {
        "colab": {
          "base_uri": "https://localhost:8080/",
          "height": 474
        },
        "id": "UhDkldBJLggu",
        "outputId": "e8080dca-244b-4566-aa25-b457785ecc60"
      },
      "execution_count": 34,
      "outputs": [
        {
          "output_type": "execute_result",
          "data": {
            "text/plain": [
              "<IPython.core.display.Markdown object>"
            ],
            "text/markdown": "> **1. What is the main conclusion of the PEF study on euro banknotes as a payment instrument?**\n> The PEF (Product Environmental Footprint) study on euro banknotes as a payment instrument concludes that the environmental impact of an EAC (Euro Area Citizen) making cash payments with euro banknotes in 2019 was very low, with a single overall score of 101 micropoints (µPt). This is equivalent to an EAC driving a standard car for 8 km or 0.01% of the total environmental impact of a European's annual consumption activity.\n> \n> **2. How does the environmental impact of euro banknotes compare to other activities and products?**\n> The environmental impact of paying with euro banknotes is significantly lower than other common products and activities. For instance, the environmental impact of manufacturing a cotton T-shirt that is washed once a week for a year is comparable to driving 55 km, while the environmental impact of bottled water consumed by an EAC in a year is equivalent to driving 272 km.\n> \n> **3. Which activities contribute most to the environmental footprint of euro banknotes?**\n> The main activities contributing to the environmental footprint of euro banknotes are:\n> - Energy consumption of ATMs (37%)\n> - Transportation of banknotes (35%)\n> - Processing activities in the distribution stage (10%)\n> \n> **4. What are some of the initiatives being undertaken to reduce the environmental footprint of euro banknotes?**\n> The Eurosystem has implemented several initiatives to reduce the environmental impact of euro banknotes, including:\n> - Implementing the Sustainable Cotton Programme to progressively substitute all conventional cotton fibres with sustainable cotton fibres by the end of 2023\n> - Imposing a landfill ban on unfit-for-circulation banknotes\n> - Researching alternative waste disposal methods for banknotes, such as recycling"
          },
          "metadata": {},
          "execution_count": 34
        }
      ]
    },
    {
      "cell_type": "code",
      "source": [
        "response = chat.send_message(\"what are the implications for this study and for the bank of korea\")\n",
        "to_markdown(response.text)"
      ],
      "metadata": {
        "colab": {
          "base_uri": "https://localhost:8080/",
          "height": 578
        },
        "id": "E5SrJA9NLyHr",
        "outputId": "fa3fda64-a1dd-46ab-d285-5b08ce4510d5"
      },
      "execution_count": 35,
      "outputs": [
        {
          "output_type": "execute_result",
          "data": {
            "text/plain": [
              "<IPython.core.display.Markdown object>"
            ],
            "text/markdown": "> **Implications for the study:**\n> \n> * The PEF study provides valuable insights into the environmental impact of euro banknotes as a payment instrument, which can be used to inform future policy decisions and initiatives aimed at reducing the environmental footprint of cash payments.\n> * The study highlights the importance of considering the entire life cycle of a product when assessing its environmental impact, from raw material extraction and manufacturing to distribution, use, and end-of-life disposal.\n> * The study demonstrates the usefulness of the PEF methodology as a tool for quantifying and comparing the environmental impacts of different products and activities.\n> \n> **Implications for the Bank of Korea:**\n> \n> * The Bank of Korea may consider conducting a similar PEF study on won banknotes to assess their environmental impact and identify opportunities for improvement.\n> * The Bank of Korea can use the findings of the euro banknote PEF study to inform its own sustainability initiatives and policies related to cash management.\n> * The Bank of Korea can engage with other central banks and international organizations to share best practices and collaborate on efforts to reduce the environmental impact of cash payments.\n> \n> In addition to the above, the Bank of Korea may also consider the following implications:\n> \n> * The study highlights the importance of considering the environmental impact of payment systems, including both cash and electronic payments. The Bank of Korea may need to assess the environmental impact of different payment systems and promote the use of more sustainable payment options.\n> * The study suggests that there is room for improvement in reducing the environmental impact of cash payments. The Bank of Korea may explore opportunities to optimize cash distribution and management processes, promote the use of recycled banknotes, and encourage the development of more sustainable materials for banknotes.\n> * The study emphasizes the importance of stakeholder collaboration in reducing the environmental impact of cash payments. The Bank of Korea may need to work with other stakeholders, such as commercial banks, retailers, and cash-in-transit companies, to implement effective sustainability initiatives."
          },
          "metadata": {},
          "execution_count": 35
        }
      ]
    },
    {
      "cell_type": "code",
      "source": [
        "response = chat.send_message(\"translate the above response to korean\")\n",
        "to_markdown(response.text)"
      ],
      "metadata": {
        "colab": {
          "base_uri": "https://localhost:8080/",
          "height": 492
        },
        "id": "Ys5N5jp2MBc3",
        "outputId": "bc3166fb-65f9-404f-f811-90f282751726"
      },
      "execution_count": 36,
      "outputs": [
        {
          "output_type": "execute_result",
          "data": {
            "text/plain": [
              "<IPython.core.display.Markdown object>"
            ],
            "text/markdown": "> **이 연구에 대한 함의:**\n> \n> * PEF 연구는 앞으로의 정책 결정과 현금 지불의 환경적 영향을 줄이기 위한 이니셔티브에 활용할 수 있는 유로 지폐의 지불수단으로서의 환경적 영향에 대한 귀중한 통찰력을 제공합니다.\n> * 이 연구는 원료 추출과 제조부터 유통, 사용, 수명 종료까지 제품의 전체 수명 주기를 고려하여 환경적 영향을 평가할 때의 중요성을 강조합니다.\n> * 이 연구는 다양한 제품과 활동의 환경적 영향을 정량화하고 비교하는 도구로서 PEF 방법론의 유용성을 보여줍니다.\n> \n> **한국은행에 대한 함의:**\n> \n> * 한국은행은 이와 유사한 PEF 연구를 실시하여 원화 지폐의 환경적 영향을 평가하고 개선 방안을 모색할 수 있습니다.\n> * 한국은행은 유로 지폐 PEF 연구의 결과를 자국의 지속 가능성 이니셔티브와 현금 관리 관련 정책에 활용할 수 있습니다.\n> * 한국은행은 다른 중앙은행 및 국제기구와 협력하여 모범 사례를 공유하고 현금 지불의 환경적 영향을 줄이기 위한 노력을 협력할 수 있습니다.\n> \n> 위의 내용 외에도 한국은행은 다음 사항을 고려할 수 있습니다.\n> \n> * 이 연구는 현금과 전자 지불을 포함한 지불 시스템의 환경적 영향을 고려하는 것의 중요성을 강조합니다. 한국은행은 다양한 지불 시스템의 환경적 영향을 평가하고 보다 지속 가능한 지불 옵션의 사용을 장려해야 할 수 있습니다.\n> * 이 연구는 현금 지불의 환경적 영향을 줄이기 위한 개선의 여지가 있음을 시사합니다. 한국은행은 현금 유통 및 관리 프로세스를 최적화하고 재활용 지폐 사용을 장려하며 지폐에 사용되는 보다 지속 가능한 재료 개발을 촉진할 수 있는 방안을 모색할 수 있습니다.\n> * 이 연구는 현금 지불의 환경적 영향을 줄이기 위해 이해관계자 간 협력의 중요성을 강조합니다. 한국은행은 상업은행, 소매업체, 현금 운송 회사 등 다른 이해관계자와 협력하여 효과적인 지속 가능성 이니셔티브를 시행해야 할 수 있습니다."
          },
          "metadata": {},
          "execution_count": 36
        }
      ]
    },
    {
      "cell_type": "code",
      "source": [
        "response = chat.send_message(\"explain the procedures of a pef study\")\n",
        "to_markdown(response.text)"
      ],
      "metadata": {
        "colab": {
          "base_uri": "https://localhost:8080/",
          "height": 864
        },
        "id": "MtQU3al8Mjs6",
        "outputId": "6b0f409d-2def-48fb-e914-45a246ab6729"
      },
      "execution_count": 37,
      "outputs": [
        {
          "output_type": "execute_result",
          "data": {
            "text/plain": [
              "<IPython.core.display.Markdown object>"
            ],
            "text/markdown": "> A PEF (Product Environmental Footprint) study involves a comprehensive assessment of the environmental impacts of a product throughout its life cycle, from raw material extraction and processing to manufacturing, distribution, use, and end-of-life disposal. The general procedures of a PEF study are as follows:\n> \n> **1. Define the Goal and Scope:**\n>    - Clearly define the purpose and objectives of the study.\n>    - Specify the product system to be assessed, including the product's life cycle stages and boundaries.\n>    - Identify the functional unit, which is the reference unit for quantifying the environmental impacts.\n> \n> **2. Collect Life Cycle Inventory (LCI) Data:**\n>    - Gather quantitative data on the inputs and outputs of the product system, including materials, energy, emissions, and waste generated at each life cycle stage.\n>    - Collect data from various sources, such as suppliers, manufacturers, distributors, and end-users.\n>    - Ensure data quality and representativeness.\n> \n> **3. Perform Life Cycle Impact Assessment (LCIA):**\n>    - Select appropriate environmental impact categories and assessment methods based on the PEF method.\n>    - Characterize the LCI data to determine the potential environmental impacts in each impact category.\n>    - Calculate the environmental impact scores for each life cycle stage and the overall product system.\n> \n> **4. Interpretation:**\n>    - Analyze and interpret the results of the LCIA, identifying the significant environmental impacts and hotspots.\n>    - Assess the contribution of different life cycle stages and processes to the overall environmental impacts.\n> \n> **5. Sensitivity Analysis and Uncertainty Assessment:**\n>    - Conduct sensitivity analyses to evaluate the influence of key assumptions and data uncertainties on the results.\n>    - Identify and address major sources of uncertainty in the study.\n> \n> **6. Reporting and Communication:**\n>    - Prepare a PEF study report that clearly presents the study's methodology, results, and conclusions.\n>    - Communicate the findings to relevant stakeholders, including consumers, policymakers, and industry representatives.\n> \n> **7. Improvement and Iteration:**\n>    - Use the results of the PEF study to identify opportunities for environmental improvement in the product system.\n>    - Continuously monitor and update the PEF study as new information and technologies become available.\n> \n> PEF studies are often conducted by independent experts or specialized consultancies, following the guidelines and requirements of the PEF methodology. The results of PEF studies can be used to inform decision-making, product design, and policy development aimed at reducing the environmental impacts of products and services."
          },
          "metadata": {},
          "execution_count": 37
        }
      ]
    }
  ]
}