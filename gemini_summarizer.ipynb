{
  "nbformat": 4,
  "nbformat_minor": 0,
  "metadata": {
    "colab": {
      "provenance": [],
      "authorship_tag": "ABX9TyNqmYWiNg1Nl52+qdDac8so",
      "include_colab_link": true
    },
    "kernelspec": {
      "name": "python3",
      "display_name": "Python 3"
    },
    "language_info": {
      "name": "python"
    }
  },
  "cells": [
    {
      "cell_type": "markdown",
      "metadata": {
        "id": "view-in-github",
        "colab_type": "text"
      },
      "source": [
        "<a href=\"https://colab.research.google.com/github/auroraaeternae/ai_summarizer/blob/main/gemini_summarizer.ipynb\" target=\"_parent\"><img src=\"https://colab.research.google.com/assets/colab-badge.svg\" alt=\"Open In Colab\"/></a>"
      ]
    },
    {
      "cell_type": "code",
      "execution_count": 1,
      "metadata": {
        "id": "WVeI7ApP-p8P"
      },
      "outputs": [],
      "source": [
        "# template to practice Google's Gemini\n",
        "# function : take in text input in various formats and return summary"
      ]
    },
    {
      "cell_type": "code",
      "source": [
        "!pip install -q -U google-generativeai\n",
        "!pip install PyMuPDF"
      ],
      "metadata": {
        "id": "OuSKyrgg_zhz",
        "outputId": "1342bb20-30fa-40e4-83d8-96c5b2b5cb1a",
        "colab": {
          "base_uri": "https://localhost:8080/"
        }
      },
      "execution_count": 2,
      "outputs": [
        {
          "output_type": "stream",
          "name": "stdout",
          "text": [
            "Requirement already satisfied: PyMuPDF in /usr/local/lib/python3.10/dist-packages (1.23.8)\n",
            "Requirement already satisfied: PyMuPDFb==1.23.7 in /usr/local/lib/python3.10/dist-packages (from PyMuPDF) (1.23.7)\n"
          ]
        }
      ]
    },
    {
      "cell_type": "code",
      "source": [
        "import pathlib\n",
        "import textwrap\n",
        "import google.generativeai as genai\n",
        "from google.colab import userdata\n",
        "from IPython.display import display\n",
        "from IPython.display import Markdown\n",
        "import fitz\n",
        "from google.colab import files\n",
        "import io\n",
        "\n",
        "# function to print the response in a pretty way\n",
        "def to_markdown(text):\n",
        "  text = text.replace('•', '  *')\n",
        "  return Markdown(textwrap.indent(text, '> ', predicate=lambda _: True))\n",
        "\n",
        "# function to extract pdf\n",
        "def readpdf(data):\n",
        "  res = \"\"\n",
        "  doc = fitz.open(stream=data, filetype=\"pdf\")\n",
        "  for page in doc:\n",
        "    text = page.get_text()\n",
        "    res += text\n",
        "  return res"
      ],
      "metadata": {
        "id": "0XTD3fgtAJc2"
      },
      "execution_count": 3,
      "outputs": []
    },
    {
      "cell_type": "code",
      "source": [
        "# accessing GEMINI API key from Colab secret vault\n",
        "GOOGLE_API_KEY = userdata.get(\"GOOGLE_API_KEY\")\n",
        "genai.configure(api_key=GOOGLE_API_KEY)"
      ],
      "metadata": {
        "id": "5F1o9lnBAc9V"
      },
      "execution_count": 4,
      "outputs": []
    },
    {
      "cell_type": "code",
      "source": [
        "model = genai.GenerativeModel('gemini-pro')"
      ],
      "metadata": {
        "id": "yuqI33rOBDrs"
      },
      "execution_count": 5,
      "outputs": []
    },
    {
      "cell_type": "code",
      "source": [
        "pdf = files.upload()                  # uploading local pdf files to colab\n",
        "data = io.BytesIO(pdf[\"ecb-pef.pdf\"]) # getting pdf file data\n",
        "pdf_text = readpdf(data)              # extracting text from pdf"
      ],
      "metadata": {
        "colab": {
          "base_uri": "https://localhost:8080/",
          "height": 77
        },
        "id": "ciVfg4nnPA4E",
        "outputId": "e85346f6-6c47-49db-b9ff-ab5e8b24439b"
      },
      "execution_count": 7,
      "outputs": [
        {
          "output_type": "display_data",
          "data": {
            "text/plain": [
              "<IPython.core.display.HTML object>"
            ],
            "text/html": [
              "\n",
              "     <input type=\"file\" id=\"files-c0eef8d0-5847-4098-9bb7-a07e00ed4341\" name=\"files[]\" multiple disabled\n",
              "        style=\"border:none\" />\n",
              "     <output id=\"result-c0eef8d0-5847-4098-9bb7-a07e00ed4341\">\n",
              "      Upload widget is only available when the cell has been executed in the\n",
              "      current browser session. Please rerun this cell to enable.\n",
              "      </output>\n",
              "      <script>// Copyright 2017 Google LLC\n",
              "//\n",
              "// Licensed under the Apache License, Version 2.0 (the \"License\");\n",
              "// you may not use this file except in compliance with the License.\n",
              "// You may obtain a copy of the License at\n",
              "//\n",
              "//      http://www.apache.org/licenses/LICENSE-2.0\n",
              "//\n",
              "// Unless required by applicable law or agreed to in writing, software\n",
              "// distributed under the License is distributed on an \"AS IS\" BASIS,\n",
              "// WITHOUT WARRANTIES OR CONDITIONS OF ANY KIND, either express or implied.\n",
              "// See the License for the specific language governing permissions and\n",
              "// limitations under the License.\n",
              "\n",
              "/**\n",
              " * @fileoverview Helpers for google.colab Python module.\n",
              " */\n",
              "(function(scope) {\n",
              "function span(text, styleAttributes = {}) {\n",
              "  const element = document.createElement('span');\n",
              "  element.textContent = text;\n",
              "  for (const key of Object.keys(styleAttributes)) {\n",
              "    element.style[key] = styleAttributes[key];\n",
              "  }\n",
              "  return element;\n",
              "}\n",
              "\n",
              "// Max number of bytes which will be uploaded at a time.\n",
              "const MAX_PAYLOAD_SIZE = 100 * 1024;\n",
              "\n",
              "function _uploadFiles(inputId, outputId) {\n",
              "  const steps = uploadFilesStep(inputId, outputId);\n",
              "  const outputElement = document.getElementById(outputId);\n",
              "  // Cache steps on the outputElement to make it available for the next call\n",
              "  // to uploadFilesContinue from Python.\n",
              "  outputElement.steps = steps;\n",
              "\n",
              "  return _uploadFilesContinue(outputId);\n",
              "}\n",
              "\n",
              "// This is roughly an async generator (not supported in the browser yet),\n",
              "// where there are multiple asynchronous steps and the Python side is going\n",
              "// to poll for completion of each step.\n",
              "// This uses a Promise to block the python side on completion of each step,\n",
              "// then passes the result of the previous step as the input to the next step.\n",
              "function _uploadFilesContinue(outputId) {\n",
              "  const outputElement = document.getElementById(outputId);\n",
              "  const steps = outputElement.steps;\n",
              "\n",
              "  const next = steps.next(outputElement.lastPromiseValue);\n",
              "  return Promise.resolve(next.value.promise).then((value) => {\n",
              "    // Cache the last promise value to make it available to the next\n",
              "    // step of the generator.\n",
              "    outputElement.lastPromiseValue = value;\n",
              "    return next.value.response;\n",
              "  });\n",
              "}\n",
              "\n",
              "/**\n",
              " * Generator function which is called between each async step of the upload\n",
              " * process.\n",
              " * @param {string} inputId Element ID of the input file picker element.\n",
              " * @param {string} outputId Element ID of the output display.\n",
              " * @return {!Iterable<!Object>} Iterable of next steps.\n",
              " */\n",
              "function* uploadFilesStep(inputId, outputId) {\n",
              "  const inputElement = document.getElementById(inputId);\n",
              "  inputElement.disabled = false;\n",
              "\n",
              "  const outputElement = document.getElementById(outputId);\n",
              "  outputElement.innerHTML = '';\n",
              "\n",
              "  const pickedPromise = new Promise((resolve) => {\n",
              "    inputElement.addEventListener('change', (e) => {\n",
              "      resolve(e.target.files);\n",
              "    });\n",
              "  });\n",
              "\n",
              "  const cancel = document.createElement('button');\n",
              "  inputElement.parentElement.appendChild(cancel);\n",
              "  cancel.textContent = 'Cancel upload';\n",
              "  const cancelPromise = new Promise((resolve) => {\n",
              "    cancel.onclick = () => {\n",
              "      resolve(null);\n",
              "    };\n",
              "  });\n",
              "\n",
              "  // Wait for the user to pick the files.\n",
              "  const files = yield {\n",
              "    promise: Promise.race([pickedPromise, cancelPromise]),\n",
              "    response: {\n",
              "      action: 'starting',\n",
              "    }\n",
              "  };\n",
              "\n",
              "  cancel.remove();\n",
              "\n",
              "  // Disable the input element since further picks are not allowed.\n",
              "  inputElement.disabled = true;\n",
              "\n",
              "  if (!files) {\n",
              "    return {\n",
              "      response: {\n",
              "        action: 'complete',\n",
              "      }\n",
              "    };\n",
              "  }\n",
              "\n",
              "  for (const file of files) {\n",
              "    const li = document.createElement('li');\n",
              "    li.append(span(file.name, {fontWeight: 'bold'}));\n",
              "    li.append(span(\n",
              "        `(${file.type || 'n/a'}) - ${file.size} bytes, ` +\n",
              "        `last modified: ${\n",
              "            file.lastModifiedDate ? file.lastModifiedDate.toLocaleDateString() :\n",
              "                                    'n/a'} - `));\n",
              "    const percent = span('0% done');\n",
              "    li.appendChild(percent);\n",
              "\n",
              "    outputElement.appendChild(li);\n",
              "\n",
              "    const fileDataPromise = new Promise((resolve) => {\n",
              "      const reader = new FileReader();\n",
              "      reader.onload = (e) => {\n",
              "        resolve(e.target.result);\n",
              "      };\n",
              "      reader.readAsArrayBuffer(file);\n",
              "    });\n",
              "    // Wait for the data to be ready.\n",
              "    let fileData = yield {\n",
              "      promise: fileDataPromise,\n",
              "      response: {\n",
              "        action: 'continue',\n",
              "      }\n",
              "    };\n",
              "\n",
              "    // Use a chunked sending to avoid message size limits. See b/62115660.\n",
              "    let position = 0;\n",
              "    do {\n",
              "      const length = Math.min(fileData.byteLength - position, MAX_PAYLOAD_SIZE);\n",
              "      const chunk = new Uint8Array(fileData, position, length);\n",
              "      position += length;\n",
              "\n",
              "      const base64 = btoa(String.fromCharCode.apply(null, chunk));\n",
              "      yield {\n",
              "        response: {\n",
              "          action: 'append',\n",
              "          file: file.name,\n",
              "          data: base64,\n",
              "        },\n",
              "      };\n",
              "\n",
              "      let percentDone = fileData.byteLength === 0 ?\n",
              "          100 :\n",
              "          Math.round((position / fileData.byteLength) * 100);\n",
              "      percent.textContent = `${percentDone}% done`;\n",
              "\n",
              "    } while (position < fileData.byteLength);\n",
              "  }\n",
              "\n",
              "  // All done.\n",
              "  yield {\n",
              "    response: {\n",
              "      action: 'complete',\n",
              "    }\n",
              "  };\n",
              "}\n",
              "\n",
              "scope.google = scope.google || {};\n",
              "scope.google.colab = scope.google.colab || {};\n",
              "scope.google.colab._files = {\n",
              "  _uploadFiles,\n",
              "  _uploadFilesContinue,\n",
              "};\n",
              "})(self);\n",
              "</script> "
            ]
          },
          "metadata": {}
        },
        {
          "output_type": "stream",
          "name": "stdout",
          "text": [
            "Saving ecb-pef.pdf to ecb-pef.pdf\n"
          ]
        }
      ]
    },
    {
      "cell_type": "code",
      "source": [
        "# single prompt example\n",
        "prompt = \"\"\"summarize the following:\n",
        "\"\"\"\n",
        "response = model.generate_content(prompt+pdf_text)\n",
        "to_markdown(response.text)"
      ],
      "metadata": {
        "id": "HH8SnKR7BKsY",
        "outputId": "d460c1ec-63ad-429f-c98c-42ad30cdf9b8",
        "colab": {
          "base_uri": "https://localhost:8080/",
          "height": 1000
        }
      },
      "execution_count": 8,
      "outputs": [
        {
          "output_type": "execute_result",
          "data": {
            "text/plain": [
              "<IPython.core.display.Markdown object>"
            ],
            "text/markdown": "> Sure, here is a summary of the Product Environmental Footprint study of euro banknotes as a payment instrument.\n> \n> **Study Objective:**\n> To determine the environmental impact of the average annual value of cash payments made by a euro area citizen (EAC) in 2019, identifying areas where the environmental footprint of euro banknotes can be reduced.\n> \n> **Methodology:**\n> * Functional Unit: Average annual value of payments with banknotes per EAC in 2019.\n> * Data Collection: Data collected from 19 National Central Banks (NCBs), 23 accredited banknote manufacturers, cash-in-transit companies, cash centres, commercial banks and banknote equipment manufacturers.\n> * Life Cycle Inventory (LCI): Cradle-to-grave assessment, from raw material acquisition to end of life (including distribution and use stages).\n> \n> **Key Findings:**\n> * Single overall score for 2019: 101 micropoints (µPt).\n> * Very low score compared to other activities and common products.\n>     * Equivalent to driving a standard car for 8 km.\n>     * Lower than the environmental impact of producing a cotton T-shirt washed once a week for a year (697 µPt) or using manufactured bottles of water for a year (3,429 µPt).\n>     * Only 0.01% of the total environmental impact of a European’s annual consumption activity.\n> \n> **Breakdown of Environmental Impact:**\n> * Distribution stage has the largest impact (82%), encompassing transportation of banknotes and energy consumption related to banknote circulation activities.\n> * Other stages contribute less, with the end-of-life stage showing a positive impact due to waste incineration with energy recovery.\n> \n> **Main Activities Contributing to Environmental Footprint:**\n> * Energy consumption of ATMs (37%).\n> * Transportation (35%).\n> * Energy consumption of processing activities in the distribution stage (10%).\n> * Paper manufacturing (9%).\n> * Energy consumption of authentication of banknotes at the point of sale (POS) (5%).\n> \n> **Sensitivity Analyses and Eurosystem Initiatives:**\n> * Sustainable Cotton Programme:\n>     * Aims to progressively substitute conventional cotton fibers with 100% sustainable cotton fibers by the end of 2023.\n>     * Projected 3.6% reduction in single overall score with full incorporation.\n>     * Further 1% reduction targeted once 100% organic cotton is achieved.\n> * Energy Sources:\n>     * 35% decrease in single overall score using wind-generated electricity for ATMs.\n> * Transportation:\n>     * Ongoing optimization of transport logistics.\n>     * Exploring use of vehicles with lower environmental impact and sustainable fuels.\n> * End-of-Life Banknote Disposal:\n>     * Landfill ban and combustion without energy recovery resulted in significant reduction of environmental impact.\n>     * Further improvement potential by moving from incineration to more recycling solutions.\n> \n> **Conclusion:**\n> * The environmental impact of paying with euro banknotes is very low.\n> * The Eurosystem is committed to further improving the sustainability of euro banknotes while ensuring they remain widely available and accepted.\n> * Research and development is underway to explore alternative waste disposal methods and improvements to materials and components used in the printing process.\n> * Similar studies will be carried out by the Eurosystem in the future, particularly if significant changes occur in the cash cycle."
          },
          "metadata": {},
          "execution_count": 8
        }
      ]
    },
    {
      "cell_type": "code",
      "source": [
        "# set multiple prompts in a chat form to have conversations with the model\n",
        "chat = model.start_chat(history=[])"
      ],
      "metadata": {
        "id": "B9uXqKhXDyJr"
      },
      "execution_count": 9,
      "outputs": []
    },
    {
      "cell_type": "code",
      "source": [
        "prompt = \"\"\"\n",
        "summarize the following text:\n",
        "\n",
        "\"\"\"\n",
        "response = chat.send_message(prompt+pdf_text)\n",
        "to_markdown(response.text)"
      ],
      "metadata": {
        "colab": {
          "base_uri": "https://localhost:8080/",
          "height": 393
        },
        "id": "UhDkldBJLggu",
        "outputId": "85412dca-86b7-4016-b6a6-8d4bc22bbe4d"
      },
      "execution_count": 10,
      "outputs": [
        {
          "output_type": "execute_result",
          "data": {
            "text/plain": [
              "<IPython.core.display.Markdown object>"
            ],
            "text/markdown": "> Sure, here is a summary of the text:\n> \n> The Product Environmental Footprint study of euro banknotes as a payment instrument, conducted in 2019 by the European Central Bank (ECB), assessed the environmental impact of banknotes over their entire life cycle, from raw material acquisition and manufacturing to disposal.\n> \n> The results showed that the average annual value of cash payments per citizen in the Eurozone had a very low environmental impact, equivalent to driving a standard car for only 8 kilometers or 0.01% of a European’s annual consumption.\n> \n> The main contributors to the environmental footprint of banknotes were the energy consumption of ATMs (37%), transportation (35%), and energy consumption of banknote authentication at the point of sale (5%).\n> \n> The ECB has been actively implementing measures to reduce the environmental impact of banknotes, such as using sustainable cotton fibers in banknote paper, optimizing transportation routes, and promoting more environmentally friendly disposal methods.\n> \n> The study concluded that the environmental impact of paying with euro banknotes was negligible and committed to further reducing the environmental footprint of banknotes and exploring the use of alternative materials and processes.\n> \n> Some ways to further reduce the environmental impact of banknotes include using renewable energy sources for ATMs and other banknote dispensing machines, using banknotes made from more sustainable materials, and optimizing transportation routes to reduce emissions."
          },
          "metadata": {},
          "execution_count": 10
        }
      ]
    },
    {
      "cell_type": "code",
      "source": [
        "response = chat.send_message(\"what are the implications for this study and for the bank of korea\")\n",
        "to_markdown(response.text)"
      ],
      "metadata": {
        "colab": {
          "base_uri": "https://localhost:8080/",
          "height": 468
        },
        "id": "E5SrJA9NLyHr",
        "outputId": "f07f5f18-3e5b-42df-beb2-23489248d8ae"
      },
      "execution_count": 11,
      "outputs": [
        {
          "output_type": "execute_result",
          "data": {
            "text/plain": [
              "<IPython.core.display.Markdown object>"
            ],
            "text/markdown": "> **Implications for the study:**\n> \n> * The study provides a comprehensive assessment of the environmental impact of euro banknotes over their entire life cycle.\n> * The results showed that the environmental impact of paying with euro banknotes is very low, equivalent to driving a standard car for only 8 kilometers or 0.01% of a European’s annual consumption.\n> * The main contributors to the environmental footprint of banknotes were identified, which can help guide future efforts to reduce the environmental impact of banknotes.\n> * The study highlights the importance of considering the environmental impact of payment methods when making policy decisions.\n> \n> **Implications for the Bank of Korea:**\n> \n> * The Bank of Korea can use the findings of this study to inform its own assessment of the environmental impact of Korean won banknotes.\n> * The Bank of Korea can learn from the measures that the ECB has implemented to reduce the environmental impact of euro banknotes, such as using sustainable cotton fibers in banknote paper, optimizing transportation routes, and promoting more environmentally friendly disposal methods.\n> * The Bank of Korea can work with other central banks and financial institutions to develop and implement best practices for reducing the environmental impact of banknotes.\n> * The Bank of Korea can also consider the environmental impact of different payment methods when making policy decisions, such as promoting the use of electronic payments or encouraging the use of more sustainable materials in banknotes.\n> \n> Overall, the study provides valuable insights and lessons learned that can be applied by the Bank of Korea and other central banks to reduce the environmental impact of banknotes and promote more sustainable payment systems."
          },
          "metadata": {},
          "execution_count": 11
        }
      ]
    },
    {
      "cell_type": "code",
      "source": [
        "response = chat.send_message(\"translate the above response to korean\")\n",
        "to_markdown(response.text)"
      ],
      "metadata": {
        "colab": {
          "base_uri": "https://localhost:8080/",
          "height": 399
        },
        "id": "Ys5N5jp2MBc3",
        "outputId": "47c5012c-90b5-436c-985d-e35e7ca4eade"
      },
      "execution_count": 12,
      "outputs": [
        {
          "output_type": "execute_result",
          "data": {
            "text/plain": [
              "<IPython.core.display.Markdown object>"
            ],
            "text/markdown": "> **연구에 대한 의미:**\n> \n> * 이 연구는 유로 지폐의 전체 수명 주기 동안 환경에 미치는 영향을 포괄적으로 평가합니다.\n> * 결과에 따르면 유로 지폐로 결제하는 것의 환경적 영향은 매우 낮으며, 표준 자동차로 단지 8km를 주행하는 것과 같거나 유럽인의 연간 소비의 0.01% 수준입니다.\n> * 지폐의 환경적 영향에 주로 기여하는 요소가 밝혀졌으며, 이는 앞으로 지폐의 환경적 영향을 줄이기 위한 노력을 하는 데 도움이 될 수 있습니다.\n> * 이 연구는 정책 결정을 내릴 때 지불 방법의 환경적 영향을 고려하는 것의 중요성을 강조합니다.\n> \n> **한국은행에 대한 의미:**\n> \n> * 한국은행은 이 연구 결과를 활용하여 한국 원권의 환경적 영향에 대한 자체 평가를 알리는 데 사용할 수 있습니다.\n> * 한국은행은 유럽중앙은행이 지폐 용지에 지속 가능한 면섬유를 사용하고, 운송 경로를 최적화하고, 보다 친환경적인 폐기 방법을 홍보하는 등 유로 지폐의 환경적 영향을 줄이기 위해 시행한 조치로부터 교훈을 얻을 수 있습니다.\n> * 한국은행은 다른 중앙은행 및 금융기관과 협력하여 지폐의 환경적 영향을 줄이기 위한 모범 사례를 개발하고 구현할 수 있습니다.\n> * 한국은행은 또한 전자 지불의 사용을 장려하거나 지폐에 더욱 지속 가능한 재료를 사용하도록 장려하는 등 정책 결정을 내릴 때 다양한 지불 방법의 환경적 영향을 고려할 수도 있습니다.\n> \n> 전반적으로 이 연구는 한국은행과 다른 중앙은행이 지폐의 환경적 영향을 줄이고 보다 지속 가능한 지불 시스템을 촉진하기 위해 적용할 수 있는 귀중한 통찰력과 교훈을 제공합니다."
          },
          "metadata": {},
          "execution_count": 12
        }
      ]
    },
    {
      "cell_type": "code",
      "source": [
        "response = chat.send_message(\"explain the procedures of a pef study\")\n",
        "to_markdown(response.text)"
      ],
      "metadata": {
        "colab": {
          "base_uri": "https://localhost:8080/",
          "height": 793
        },
        "id": "MtQU3al8Mjs6",
        "outputId": "da46c492-4eee-47ab-bffe-891657f55c1e"
      },
      "execution_count": 13,
      "outputs": [
        {
          "output_type": "execute_result",
          "data": {
            "text/plain": [
              "<IPython.core.display.Markdown object>"
            ],
            "text/markdown": "> The procedures of a Product Environmental Footprint (PEF) study involve a systematic assessment of the environmental impacts of a product throughout its life cycle. Here are the general steps involved in a PEF study:\n> \n> 1. **Goal and Scope Definition:**\n>    - Define the purpose and objectives of the study.\n>    - Determine the functional unit, which is the quantified performance of the product system.\n>    - Set the system boundaries, including which life cycle stages and processes to include in the study.\n> \n> 2. **Data Collection:**\n>    - Gather data on the inputs and outputs of the product system, including raw materials, energy, water, emissions, and waste.\n>    - Collect data on the environmental impacts associated with each process and activity.\n>    - Ensure data quality and representativeness.\n> \n> 3. **Life Cycle Inventory (LCI) Modeling:**\n>    - Construct a life cycle inventory (LCI) model that represents the product system and its life cycle stages.\n>    - Quantify the inputs and outputs of the product system and assign them to the appropriate life cycle stages.\n>    - Use appropriate data sources and calculation methods to estimate environmental impacts.\n> \n> 4. **Life Cycle Impact Assessment (LCIA):**\n>    - Select relevant environmental impact categories and impact assessment methods.\n>    - Calculate the environmental impacts associated with the LCI results using characterization factors.\n>    - Normalize and weight the impact results to obtain a single score or a set of impact category indicators.\n> \n> 5. **Interpretation:**\n>    - Analyze and interpret the results of the LCIA, identifying the significant environmental impacts and hotspots.\n>    - Evaluate the contribution of different life cycle stages and processes to the overall environmental impact.\n>    - Draw conclusions and make recommendations for reducing the environmental impacts of the product system.\n> \n> 6. **Reporting:**\n>    - Prepare a PEF study report that documents the methodology, data sources, assumptions, results, and conclusions of the study.\n>    - Communicate the findings to stakeholders, including consumers, policymakers, and businesses.\n> \n> 7. **Verification:**\n>    - Consider having the PEF study verified by an independent third party to ensure its accuracy, completeness, and compliance with the PEF methodology.\n> \n> PEF studies are iterative and can be updated as new data and methodologies become available. They can also be used to compare the environmental performance of different products or services, supporting informed decision-making and promoting more sustainable products and services."
          },
          "metadata": {},
          "execution_count": 13
        }
      ]
    }
  ]
}